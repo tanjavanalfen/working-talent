{
 "cells": [
  {
   "cell_type": "markdown",
   "metadata": {},
   "source": [
    "___\n",
    "\n",
    "<a href='https://www.udemy.com/user/joseportilla/'><img src='../Pierian_Data_Logo.png'/></a>\n",
    "___\n",
    "<center><em>Content Copyright by Pierian Data</em></center>"
   ]
  },
  {
   "cell_type": "markdown",
   "metadata": {},
   "source": [
    "# Milestone Project 1\n",
    "## Congratulations on making it to your first milestone!\n",
    "You've already learned a ton and are ready to work on a real project.\n",
    "\n",
    "Your assignment: Create a Tic Tac Toe game. You are free to use any IDE you like.\n",
    "\n",
    "Here are the requirements:\n",
    "\n",
    "* 2 players should be able to play the game (both sitting at the same computer)\n",
    "* The board should be printed out every time a player makes a move\n",
    "* You should be able to accept input of the player position and then place a symbol on the board\n",
    "\n",
    "Feel free to use Google to help you figure anything out (but don't just Google \"Tic Tac Toe in Python\" otherwise you won't learn anything!) Keep in mind that this project can take anywhere between several hours to several days.\n",
    "\n",
    "There are 4 Jupyter Notebooks related to this assignment:\n",
    "\n",
    "* This Assignment Notebook\n",
    "* A \"Walkthrough Steps Workbook\" Notebook\n",
    "* A \"Complete Walkthrough Solution\" Notebook\n",
    "* An \"Advanced Solution\" Notebook\n",
    "\n",
    "I encourage you to just try to start the project on your own without referencing any of the notebooks. If you get stuck, check out the next lecture which is a text lecture with helpful hints and steps. If you're still stuck after that, then check out the Walkthrough Steps Workbook, which breaks up the project in steps for you to solve. Still stuck? Then check out the Complete Walkthrough Solution video for more help on approaching the project!"
   ]
  },
  {
   "cell_type": "markdown",
   "metadata": {},
   "source": [
    "There are parts of this that will be a struggle...and that is good! I have complete faith that if you have made it this far through the course you have all the tools and knowledge to tackle this project. Remember, it's totally open book, so take your time, do a little research, and remember:\n",
    "\n",
    "## HAVE FUN!"
   ]
  },
  {
   "cell_type": "code",
   "execution_count": null,
   "metadata": {},
   "outputs": [],
   "source": [
    "import itertools"
   ]
  },
  {
   "cell_type": "code",
   "execution_count": null,
   "metadata": {},
   "outputs": [],
   "source": [
    "def tic_tac_toe():\n",
    "    board, signs = start_game()\n",
    "    play(board, signs)"
   ]
  },
  {
   "cell_type": "code",
   "execution_count": null,
   "metadata": {},
   "outputs": [],
   "source": [
    "def start_game():\n",
    "    welcome_message()\n",
    "    signs = {1:'X', 2:'O', 'empty':'_'}\n",
    "    board = 9 * [signs['empty']]\n",
    "    return board, signs"
   ]
  },
  {
   "cell_type": "code",
   "execution_count": null,
   "metadata": {},
   "outputs": [],
   "source": [
    "def welcome_message():\n",
    "    print(\"Welcome to tic-tac-toe!\")\n",
    "    print(\"Try to be the first player to get three of your sign in a row.\")\n",
    "    print(\"Enter the position of your move with a number of 1 to 9, corresponding to the following positions: \")\n",
    "    show_board([1, 2, 3, 4, 5, 6, 7, 8, 9])\n",
    "    print(\"Good luck!\")"
   ]
  },
  {
   "cell_type": "code",
   "execution_count": null,
   "metadata": {},
   "outputs": [],
   "source": [
    "def check_end(board, signs):\n",
    "    win_patterns = [  # TODO: Prettier method of checking win patterns\n",
    "        [0, 1, 2],\n",
    "        [3, 4, 5],\n",
    "        [6, 7, 8],\n",
    "        \n",
    "        [0, 3, 5],\n",
    "        [1, 4, 7], \n",
    "        [2, 5, 8],\n",
    "        \n",
    "        [0, 4, 8],\n",
    "        [2, 4, 6],\n",
    "    ]\n",
    "    \n",
    "    # Game has ended due to win\n",
    "    for player in [1, 2]:\n",
    "        for pattern in win_patterns:\n",
    "            if (board[pattern[0]] == signs[player] and\n",
    "                board[pattern[1]] == signs[player] and\n",
    "                board[pattern[2]] == signs[player]):\n",
    "                print(\"Player {} has won.\".format(player))\n",
    "                return True\n",
    "            \n",
    "    # Game has ended due to draw\n",
    "    if board.count(signs['empty']) == 0:\n",
    "        print(\"The game has ended in a draw.\")\n",
    "        return True   \n",
    "    \n",
    "    # Game has not ended\n",
    "    else:\n",
    "        return False"
   ]
  },
  {
   "cell_type": "code",
   "execution_count": null,
   "metadata": {},
   "outputs": [],
   "source": [
    "def play(board, signs):\n",
    "    finished = False  # Is game done (won or draw)\n",
    "    player_iterator = itertools.cycle([1, 2])\n",
    "    while not finished:\n",
    "        current_player = next(player_iterator)\n",
    "        board = player_round(current_player, board, signs)\n",
    "        finished = check_end(board, signs)\n",
    "    if finished:\n",
    "        new_game()"
   ]
  },
  {
   "cell_type": "code",
   "execution_count": null,
   "metadata": {},
   "outputs": [],
   "source": [
    "def new_game():\n",
    "    start_new = input(\"Do you want to start a new game? [y/n] \")\n",
    "    if start_new[0].lower() == 'y':  # taking only first letter allows 'yes' as input\n",
    "        print(\"Starting new game...\\n\")\n",
    "        tic_tac_toe()\n",
    "    elif start_new[0].lower() == 'n': \n",
    "        print(\"Thank you for playing tic-tac-toe. Goodbye!\")\n",
    "    else:\n",
    "        print(\"Invalid input, please try again.\")\n",
    "        new_game()\n",
    "        "
   ]
  },
  {
   "cell_type": "code",
   "execution_count": null,
   "metadata": {},
   "outputs": [],
   "source": [
    "def player_round(player, board, signs):\n",
    "    move = input(\"Player {}, please enter your move: \".format(player))\n",
    "    valid_move = check_valid(move, board, signs) # Check move validity\n",
    "    if valid_move == -1:  \n",
    "        player_round(player, board, signs)  # Try again\n",
    "    else:\n",
    "        board[valid_move] = signs[player]  # Update board\n",
    "        show_board(board)\n",
    "    return board"
   ]
  },
  {
   "cell_type": "code",
   "execution_count": null,
   "metadata": {},
   "outputs": [],
   "source": [
    "def check_valid(move, board, signs):\n",
    "    if not move.isdecimal():\n",
    "        print(\"Your move is not a number, please try again.\")\n",
    "        return -1\n",
    "    \n",
    "    move = int(move) - 1  # Convert string to integer, and correct for index start at 1\n",
    "        \n",
    "    if move < 0 or move > len(board)-1: # Move out of bounds\n",
    "        print(\"Your move is out of bounds, please try again.\")\n",
    "        return -1  \n",
    "    if board[move] != signs['empty']: # Square already filled\n",
    "        print(\"This square is already taken, please try again.\")\n",
    "        return -1 \n",
    "    else: \n",
    "        return move"
   ]
  },
  {
   "cell_type": "code",
   "execution_count": null,
   "metadata": {},
   "outputs": [],
   "source": [
    "def show_board(board):\n",
    "    print(\"    {}|{}|{}\\n    {}|{}|{}\\n    {}|{}|{}\\n\".format(\n",
    "        board[0],\n",
    "        board[1],\n",
    "        board[2],\n",
    "        board[3],\n",
    "        board[4],\n",
    "        board[5],\n",
    "        board[6],\n",
    "        board[7],\n",
    "        board[8],\n",
    "    ))\n",
    "#     print(''.join('{}|'.format(*board[k]) for k, _ in enumerate(board)))"
   ]
  },
  {
   "cell_type": "code",
   "execution_count": null,
   "metadata": {},
   "outputs": [],
   "source": [
    "tic_tac_toe()"
   ]
  }
 ],
 "metadata": {
  "kernelspec": {
   "display_name": "Python 3 (ipykernel)",
   "language": "python",
   "name": "python3"
  },
  "language_info": {
   "codemirror_mode": {
    "name": "ipython",
    "version": 3
   },
   "file_extension": ".py",
   "mimetype": "text/x-python",
   "name": "python",
   "nbconvert_exporter": "python",
   "pygments_lexer": "ipython3",
   "version": "3.8.10"
  }
 },
 "nbformat": 4,
 "nbformat_minor": 1
}
